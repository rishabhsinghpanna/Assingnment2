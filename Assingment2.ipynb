{
 "cells": [
  {
   "cell_type": "markdown",
   "id": "3ae42957-c8b8-471d-a9a5-4b7d0584ee4c",
   "metadata": {},
   "source": [
    "Q1. How do you comment code in Python? What are the different types of comments?"
   ]
  },
  {
   "cell_type": "markdown",
   "id": "3ef5cae1-8962-495d-920b-7a98d2b68b4c",
   "metadata": {},
   "source": [
    "There are 2 types of comments \n",
    "1) Single line comment\n",
    "2) Multiline comment"
   ]
  },
  {
   "cell_type": "markdown",
   "id": "7e3dd385-50e7-469c-9f08-db5343ce734e",
   "metadata": {},
   "source": [
    "1) Single Line Comment:\n",
    "    For single line comment we use '#'\n",
    "    eg: # Hello Python"
   ]
  },
  {
   "cell_type": "code",
   "execution_count": 2,
   "id": "be0cf0ff-d1bc-4ab3-9f04-4508f5ad27d6",
   "metadata": {},
   "outputs": [],
   "source": [
    "# Hello Python"
   ]
  },
  {
   "cell_type": "markdown",
   "id": "21e7a461-c47d-4005-a97c-e5fc7cf4d94b",
   "metadata": {},
   "source": [
    "2. MultiLine Comment:\n",
    "    For multiline comment we use either '''  '''  or \"\"\"  \"\"\""
   ]
  },
  {
   "cell_type": "code",
   "execution_count": 4,
   "id": "52fe177c-8bd3-4a9b-928a-7746d7407873",
   "metadata": {},
   "outputs": [
    {
     "data": {
      "text/plain": [
       "'hi\\nhello rishabh\\nSingh'"
      ]
     },
     "execution_count": 4,
     "metadata": {},
     "output_type": "execute_result"
    }
   ],
   "source": [
    "'''hi\n",
    "hello rishabh\n",
    "Singh'''"
   ]
  },
  {
   "cell_type": "code",
   "execution_count": 5,
   "id": "f11cacd7-0bf0-43cd-8049-00c340f8c464",
   "metadata": {},
   "outputs": [
    {
     "data": {
      "text/plain": [
       "'hi hello \\nPython .\\nEasy '"
      ]
     },
     "execution_count": 5,
     "metadata": {},
     "output_type": "execute_result"
    }
   ],
   "source": [
    "\"\"\"hi hello \n",
    "Python .\n",
    "Easy \"\"\""
   ]
  },
  {
   "cell_type": "markdown",
   "id": "4300807c-e429-4fb8-98e9-b3d931e913cc",
   "metadata": {},
   "source": [
    "Q2. What are variables in Python? How do you declare and assign values to variables?"
   ]
  },
  {
   "cell_type": "markdown",
   "id": "05707fd4-76ab-4973-b9c7-6597cb514c6a",
   "metadata": {},
   "source": [
    "Python variable is a reserved memory location to store values\n",
    "we can either take user input and we can directly assign value to it"
   ]
  },
  {
   "cell_type": "code",
   "execution_count": 7,
   "id": "96e287f7-76bd-4953-9d21-7f9fb3323bfa",
   "metadata": {},
   "outputs": [],
   "source": [
    "## user input"
   ]
  },
  {
   "cell_type": "code",
   "execution_count": 8,
   "id": "81c67e8f-8c8f-4b33-8c0b-fca0d83d9f82",
   "metadata": {},
   "outputs": [
    {
     "name": "stdin",
     "output_type": "stream",
     "text": [
      "Enter the number :  34\n"
     ]
    }
   ],
   "source": [
    "a = int(input(\"Enter the number : \"))"
   ]
  },
  {
   "cell_type": "code",
   "execution_count": 9,
   "id": "9b1025da-4d45-4782-a81e-722e0333396c",
   "metadata": {},
   "outputs": [],
   "source": [
    "# we can directly assign to it"
   ]
  },
  {
   "cell_type": "code",
   "execution_count": 10,
   "id": "00bfba4a-6061-49cc-b146-bb79c9da852f",
   "metadata": {},
   "outputs": [],
   "source": [
    "a = 10"
   ]
  },
  {
   "cell_type": "markdown",
   "id": "a44b356b-b730-4d74-b866-b96e7a2d6ba4",
   "metadata": {},
   "source": [
    "Q3. How do you convert one data type to another in Python?"
   ]
  },
  {
   "cell_type": "markdown",
   "id": "ce28500c-7336-4dbb-90ef-44a10884ee3e",
   "metadata": {},
   "source": [
    "By type casting\n",
    "eg: string to integer"
   ]
  },
  {
   "cell_type": "code",
   "execution_count": 11,
   "id": "a9c5f973-a553-49dc-875e-9bd1be1d1bbc",
   "metadata": {},
   "outputs": [
    {
     "data": {
      "text/plain": [
       "45"
      ]
     },
     "execution_count": 11,
     "metadata": {},
     "output_type": "execute_result"
    }
   ],
   "source": [
    "# string to integer\n",
    "string = '45'\n",
    "integer = int(string)\n",
    "integer"
   ]
  },
  {
   "cell_type": "code",
   "execution_count": 14,
   "id": "617529a0-1eaf-471c-81bb-db3d6ab64295",
   "metadata": {},
   "outputs": [
    {
     "data": {
      "text/plain": [
       "int"
      ]
     },
     "execution_count": 14,
     "metadata": {},
     "output_type": "execute_result"
    }
   ],
   "source": [
    "type(integer)"
   ]
  },
  {
   "cell_type": "code",
   "execution_count": 13,
   "id": "9681c464-e50c-4391-85b6-2e027c7c383d",
   "metadata": {},
   "outputs": [
    {
     "data": {
      "text/plain": [
       "'56'"
      ]
     },
     "execution_count": 13,
     "metadata": {},
     "output_type": "execute_result"
    }
   ],
   "source": [
    "# integer to string\n",
    "integer = 56\n",
    "string = str(integer)\n",
    "string"
   ]
  },
  {
   "cell_type": "code",
   "execution_count": 15,
   "id": "221031ea-9116-4e74-b6ed-a74bffa8efea",
   "metadata": {},
   "outputs": [
    {
     "data": {
      "text/plain": [
       "str"
      ]
     },
     "execution_count": 15,
     "metadata": {},
     "output_type": "execute_result"
    }
   ],
   "source": [
    "type(string)"
   ]
  },
  {
   "cell_type": "markdown",
   "id": "9c99e9aa-db74-43a6-a0d7-f150a9a7d00c",
   "metadata": {},
   "source": [
    "Q4. How do you write and execute a Python script from the command line?"
   ]
  },
  {
   "cell_type": "markdown",
   "id": "0a10c85d-521a-4779-823c-9bdf21fd9918",
   "metadata": {},
   "source": [
    "Step 1 : Open the command promt"
   ]
  },
  {
   "cell_type": "markdown",
   "id": "305f46e0-1f18-4762-a839-4eb79a67ce6f",
   "metadata": {},
   "source": [
    "Step2 : check whether your system has python or not by typing the command \"python\""
   ]
  },
  {
   "cell_type": "markdown",
   "id": "8d71e974-06e7-4f9d-bdc4-1ab28c9be669",
   "metadata": {},
   "source": [
    "Step3 : After that you directly type some 1 line execution command eg: 1+2 , print(\"hello World\")"
   ]
  },
  {
   "cell_type": "markdown",
   "id": "08c39624-583a-49b2-b3c0-18076d0f3c1c",
   "metadata": {},
   "source": [
    "Step 4 : if you wnant to run a python file then 1st change ypur directory by using \"cd\" command to path where ypur file is present"
   ]
  },
  {
   "cell_type": "markdown",
   "id": "68b49d02-fe97-4604-a4f2-74ebfd8fb5ef",
   "metadata": {},
   "source": [
    "Step5 : eg your name of file is assig2.py\n",
    "then write \"python assig2.py\""
   ]
  },
  {
   "cell_type": "markdown",
   "id": "aeef8dd4-99e6-40f4-9025-0674e1cb3882",
   "metadata": {},
   "source": [
    "Step6 : Your file will get executed"
   ]
  },
  {
   "cell_type": "markdown",
   "id": "ed0206b3-5d9b-4934-a182-5893121b3b95",
   "metadata": {},
   "source": [
    "Q5. Given a list my_list = [1, 2, 3, 4, 5], write the code to slice the list and obtain the sub-list [2, 3]."
   ]
  },
  {
   "cell_type": "code",
   "execution_count": 1,
   "id": "069df05c-adf3-4f67-83da-535069b7195b",
   "metadata": {},
   "outputs": [],
   "source": [
    "my_list = [1,2,3,4,5]"
   ]
  },
  {
   "cell_type": "code",
   "execution_count": 2,
   "id": "95939faa-8fd9-4b2d-bae8-00f3530acc1d",
   "metadata": {},
   "outputs": [
    {
     "data": {
      "text/plain": [
       "[1, 2, 3, 4, 5]"
      ]
     },
     "execution_count": 2,
     "metadata": {},
     "output_type": "execute_result"
    }
   ],
   "source": [
    "my_list"
   ]
  },
  {
   "cell_type": "code",
   "execution_count": 3,
   "id": "f2f0df6a-cc45-4835-950d-9cce827e7b9e",
   "metadata": {},
   "outputs": [],
   "source": [
    "my_new_list = my_list[my_list.index(2) : my_list.index(3)+1]"
   ]
  },
  {
   "cell_type": "code",
   "execution_count": 4,
   "id": "7415fcec-746d-4a80-9348-bec54a3025b1",
   "metadata": {},
   "outputs": [
    {
     "data": {
      "text/plain": [
       "[2, 3]"
      ]
     },
     "execution_count": 4,
     "metadata": {},
     "output_type": "execute_result"
    }
   ],
   "source": [
    "my_new_list"
   ]
  },
  {
   "cell_type": "markdown",
   "id": "e0e1c6e3-722a-4c02-864a-5bd88e3f1e6c",
   "metadata": {},
   "source": [
    "Q6. What is a complex number in mathematics, and how is it represented in Python?"
   ]
  },
  {
   "cell_type": "markdown",
   "id": "d216c360-7d8c-424a-a508-e05b0e594f9b",
   "metadata": {},
   "source": [
    "In mathematics complex number are those which represents in form of a+ib where a,b are real and i is imaginary."
   ]
  },
  {
   "cell_type": "markdown",
   "id": "08e29040-cca4-43e3-965a-0a3df3e3b83e",
   "metadata": {},
   "source": [
    "But in case of python it is represented by a+bj instead of 'i' we use 'j' ex: 30+110j"
   ]
  },
  {
   "cell_type": "code",
   "execution_count": 10,
   "id": "ee8d0ceb-961c-455d-8a12-aee13b45b4ff",
   "metadata": {},
   "outputs": [],
   "source": [
    "complex_Number = 30+110j"
   ]
  },
  {
   "cell_type": "code",
   "execution_count": 12,
   "id": "0dc89662-ab42-4e4b-bf65-2e97888181af",
   "metadata": {},
   "outputs": [
    {
     "data": {
      "text/plain": [
       "(30+110j)"
      ]
     },
     "execution_count": 12,
     "metadata": {},
     "output_type": "execute_result"
    }
   ],
   "source": [
    "complex_Number"
   ]
  },
  {
   "cell_type": "code",
   "execution_count": 13,
   "id": "499ab596-69cd-459c-9c07-a2aef3cbaf0c",
   "metadata": {},
   "outputs": [
    {
     "data": {
      "text/plain": [
       "30.0"
      ]
     },
     "execution_count": 13,
     "metadata": {},
     "output_type": "execute_result"
    }
   ],
   "source": [
    "complex_Number.real"
   ]
  },
  {
   "cell_type": "code",
   "execution_count": 15,
   "id": "641ec55a-4dc5-4b1c-b9ec-43627866fe6c",
   "metadata": {},
   "outputs": [
    {
     "data": {
      "text/plain": [
       "110.0"
      ]
     },
     "execution_count": 15,
     "metadata": {},
     "output_type": "execute_result"
    }
   ],
   "source": [
    "complex_Number.imag"
   ]
  },
  {
   "cell_type": "code",
   "execution_count": 16,
   "id": "6f7719d4-2375-49dc-8ddc-a295edae313b",
   "metadata": {},
   "outputs": [
    {
     "data": {
      "text/plain": [
       "complex"
      ]
     },
     "execution_count": 16,
     "metadata": {},
     "output_type": "execute_result"
    }
   ],
   "source": [
    "type(complex_Number)"
   ]
  },
  {
   "cell_type": "markdown",
   "id": "0b29b21f-b6f0-49ac-b519-256c9f02b804",
   "metadata": {},
   "source": [
    "Q7. What is the correct way to declare a variable named age and assign the value 25 to it?"
   ]
  },
  {
   "cell_type": "markdown",
   "id": "f6366ea3-773b-406f-a50a-8507bf95c991",
   "metadata": {},
   "source": [
    "Either you can declare directly or take user input"
   ]
  },
  {
   "cell_type": "code",
   "execution_count": 17,
   "id": "6f0e9323-f3f8-48bf-bc33-5cfb96012647",
   "metadata": {},
   "outputs": [],
   "source": [
    "# Directly\n",
    "age = 25"
   ]
  },
  {
   "cell_type": "code",
   "execution_count": 18,
   "id": "8cdef83a-13ad-4201-bd47-aeda309113b7",
   "metadata": {},
   "outputs": [
    {
     "data": {
      "text/plain": [
       "25"
      ]
     },
     "execution_count": 18,
     "metadata": {},
     "output_type": "execute_result"
    }
   ],
   "source": [
    "age"
   ]
  },
  {
   "cell_type": "code",
   "execution_count": 19,
   "id": "0b4c919a-fee8-4fe1-acf7-3a9194e9e557",
   "metadata": {},
   "outputs": [
    {
     "data": {
      "text/plain": [
       "int"
      ]
     },
     "execution_count": 19,
     "metadata": {},
     "output_type": "execute_result"
    }
   ],
   "source": [
    "type(age)"
   ]
  },
  {
   "cell_type": "code",
   "execution_count": 20,
   "id": "fec3cc4b-dd26-47ff-a8da-14e8d7e5f9d6",
   "metadata": {},
   "outputs": [
    {
     "name": "stdin",
     "output_type": "stream",
     "text": [
      "Enter the age :  25\n"
     ]
    }
   ],
   "source": [
    "#user input\n",
    "age = int(input(\"Enter the age : \"))"
   ]
  },
  {
   "cell_type": "code",
   "execution_count": 21,
   "id": "7ed55060-a68a-4548-993a-8596e660bddf",
   "metadata": {},
   "outputs": [
    {
     "data": {
      "text/plain": [
       "25"
      ]
     },
     "execution_count": 21,
     "metadata": {},
     "output_type": "execute_result"
    }
   ],
   "source": [
    "age"
   ]
  },
  {
   "cell_type": "code",
   "execution_count": 22,
   "id": "61aec3ca-fe2b-457a-8591-3394b87d074f",
   "metadata": {},
   "outputs": [
    {
     "data": {
      "text/plain": [
       "int"
      ]
     },
     "execution_count": 22,
     "metadata": {},
     "output_type": "execute_result"
    }
   ],
   "source": [
    "type(age)"
   ]
  },
  {
   "cell_type": "markdown",
   "id": "a7fa11aa-d899-406d-b8c3-738b1bfcdaea",
   "metadata": {},
   "source": [
    "Q8. Declare a variable named price and assign the value 9.99 to it. What data type does this variable\n",
    "belong to?"
   ]
  },
  {
   "cell_type": "code",
   "execution_count": 23,
   "id": "17019d98-1cac-4c2b-a401-00886bb42118",
   "metadata": {},
   "outputs": [
    {
     "name": "stdin",
     "output_type": "stream",
     "text": [
      "Enter the price :  9.99\n"
     ]
    }
   ],
   "source": [
    "price = float(input(\"Enter the price : \"))"
   ]
  },
  {
   "cell_type": "code",
   "execution_count": 24,
   "id": "e22f7a6b-d4ba-424c-9353-689ed88885ca",
   "metadata": {},
   "outputs": [
    {
     "data": {
      "text/plain": [
       "9.99"
      ]
     },
     "execution_count": 24,
     "metadata": {},
     "output_type": "execute_result"
    }
   ],
   "source": [
    "price"
   ]
  },
  {
   "cell_type": "code",
   "execution_count": 25,
   "id": "62e0615c-1dd0-4a65-a671-f6b214c0aa78",
   "metadata": {},
   "outputs": [
    {
     "data": {
      "text/plain": [
       "float"
      ]
     },
     "execution_count": 25,
     "metadata": {},
     "output_type": "execute_result"
    }
   ],
   "source": [
    "type(price)"
   ]
  },
  {
   "cell_type": "markdown",
   "id": "06926c3b-f1f8-4261-a946-5435714fdbe6",
   "metadata": {},
   "source": [
    "Q9. Create a variable named name and assign your full name to it as a string. How would you print the\n",
    "value of this variable?"
   ]
  },
  {
   "cell_type": "code",
   "execution_count": 26,
   "id": "e6e3a376-9402-420e-83f7-9113cd5aba59",
   "metadata": {},
   "outputs": [
    {
     "name": "stdin",
     "output_type": "stream",
     "text": [
      "Enter your name :  Rishabh Singh\n"
     ]
    }
   ],
   "source": [
    "name = input(\"Enter your name : \")"
   ]
  },
  {
   "cell_type": "code",
   "execution_count": 27,
   "id": "9d6fc841-e9ca-4e71-9f7c-13d9939c62f5",
   "metadata": {},
   "outputs": [
    {
     "data": {
      "text/plain": [
       "'Rishabh Singh'"
      ]
     },
     "execution_count": 27,
     "metadata": {},
     "output_type": "execute_result"
    }
   ],
   "source": [
    "name"
   ]
  },
  {
   "cell_type": "code",
   "execution_count": 28,
   "id": "2ea29440-aba9-445f-9763-6d8ce094fbc0",
   "metadata": {},
   "outputs": [
    {
     "data": {
      "text/plain": [
       "str"
      ]
     },
     "execution_count": 28,
     "metadata": {},
     "output_type": "execute_result"
    }
   ],
   "source": [
    "type(name)"
   ]
  },
  {
   "cell_type": "markdown",
   "id": "c87c3b00-3842-492d-80c4-b588552bff7a",
   "metadata": {},
   "source": [
    "How would you print the value of this variable?"
   ]
  },
  {
   "cell_type": "code",
   "execution_count": 29,
   "id": "5ca27926-09f3-41fa-b37e-d14adbeb95f1",
   "metadata": {},
   "outputs": [
    {
     "name": "stdout",
     "output_type": "stream",
     "text": [
      "Rishabh Singh\n"
     ]
    }
   ],
   "source": [
    "# Just by writing print command \"print(name)\"\n",
    "print(name)"
   ]
  },
  {
   "cell_type": "markdown",
   "id": "c131728a-7ce0-43cd-b43e-512d6ee6e2dc",
   "metadata": {},
   "source": [
    "Q10. Given the string \"Hello, World!\", extract the substring \"World\"."
   ]
  },
  {
   "cell_type": "code",
   "execution_count": 30,
   "id": "0c2a35b2-3dd8-4bdf-bc02-624a839aa00e",
   "metadata": {},
   "outputs": [],
   "source": [
    "s = \"Hello, World\" "
   ]
  },
  {
   "cell_type": "code",
   "execution_count": 32,
   "id": "50bd015e-abfa-44d1-810f-6a27d20d2d4e",
   "metadata": {},
   "outputs": [
    {
     "data": {
      "text/plain": [
       "'World'"
      ]
     },
     "execution_count": 32,
     "metadata": {},
     "output_type": "execute_result"
    }
   ],
   "source": [
    "s[s.index('W'):len(s)]"
   ]
  },
  {
   "cell_type": "markdown",
   "id": "0515f225-0bb6-4d2f-8985-0dbb9345c3e2",
   "metadata": {},
   "source": [
    "Q11. Create a variable named \"is_student\" and assign it a boolean value indicating whether you are\n",
    "currently a student or not."
   ]
  },
  {
   "cell_type": "code",
   "execution_count": 33,
   "id": "f728f502-9a49-4d84-9e9f-7a9b0e0da4c0",
   "metadata": {},
   "outputs": [
    {
     "name": "stdin",
     "output_type": "stream",
     "text": [
      "Are you a student or not 'True' or 'False' :  True\n"
     ]
    },
    {
     "name": "stdout",
     "output_type": "stream",
     "text": [
      "You are currently a Student\n"
     ]
    }
   ],
   "source": [
    "is_student = bool(input(\"Are you a student or not 'True' or 'False' : \"))\n",
    "if is_student == \"False\":\n",
    "    print(\"You are not currently a Student\")\n",
    "else:\n",
    "    print(\"You are currently a Student\")\n",
    "                  "
   ]
  },
  {
   "cell_type": "code",
   "execution_count": 34,
   "id": "897459a6-69ca-4cfa-b4a4-5b307be2d151",
   "metadata": {},
   "outputs": [
    {
     "data": {
      "text/plain": [
       "bool"
      ]
     },
     "execution_count": 34,
     "metadata": {},
     "output_type": "execute_result"
    }
   ],
   "source": [
    "type(is_student)"
   ]
  },
  {
   "cell_type": "code",
   "execution_count": null,
   "id": "d04a6466-fa66-4bef-8270-793ad3ec487f",
   "metadata": {},
   "outputs": [],
   "source": []
  }
 ],
 "metadata": {
  "kernelspec": {
   "display_name": "Python 3 (ipykernel)",
   "language": "python",
   "name": "python3"
  },
  "language_info": {
   "codemirror_mode": {
    "name": "ipython",
    "version": 3
   },
   "file_extension": ".py",
   "mimetype": "text/x-python",
   "name": "python",
   "nbconvert_exporter": "python",
   "pygments_lexer": "ipython3",
   "version": "3.10.8"
  }
 },
 "nbformat": 4,
 "nbformat_minor": 5
}
